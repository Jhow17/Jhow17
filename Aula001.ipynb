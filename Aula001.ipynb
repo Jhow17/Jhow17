{
  "nbformat": 4,
  "nbformat_minor": 0,
  "metadata": {
    "colab": {
      "provenance": [],
      "authorship_tag": "ABX9TyNh8PJvvxqMMoW1KRSwdBhz",
      "include_colab_link": true
    },
    "kernelspec": {
      "name": "python3",
      "display_name": "Python 3"
    },
    "language_info": {
      "name": "python"
    }
  },
  "cells": [
    {
      "cell_type": "markdown",
      "metadata": {
        "id": "view-in-github",
        "colab_type": "text"
      },
      "source": [
        "<a href=\"https://colab.research.google.com/github/Jhow17/Jhow17/blob/main/Aula001.ipynb\" target=\"_parent\"><img src=\"https://colab.research.google.com/assets/colab-badge.svg\" alt=\"Open In Colab\"/></a>"
      ]
    },
    {
      "cell_type": "markdown",
      "source": [
        "# Expressao Algébrica"
      ],
      "metadata": {
        "id": "UUk5sBcr2hB1"
      }
    },
    {
      "cell_type": "markdown",
      "source": [
        "## Importacao de Biblioteca"
      ],
      "metadata": {
        "id": "SbfSFfFJ5Msj"
      }
    },
    {
      "cell_type": "code",
      "execution_count": 7,
      "metadata": {
        "id": "AwxwFEZwk6aK"
      },
      "outputs": [],
      "source": [
        "import sympy as sy\n",
        "x = sy.Symbol('x')"
      ]
    },
    {
      "cell_type": "markdown",
      "source": [
        "## Soma"
      ],
      "metadata": {
        "id": "lxch52p55bPb"
      }
    },
    {
      "cell_type": "markdown",
      "source": [
        "## Expansao e Produtos notaveis"
      ],
      "metadata": {
        "id": "1jfF95-750YP"
      }
    },
    {
      "cell_type": "code",
      "source": [
        "y = sy.Symbol('y')\n",
        "z = sy.Symbol('z')"
      ],
      "metadata": {
        "id": "sMk_6R7o57Su"
      },
      "execution_count": 10,
      "outputs": []
    },
    {
      "cell_type": "code",
      "source": [
        "(x+2*y) *(6-2*z)"
      ],
      "metadata": {
        "colab": {
          "base_uri": "https://localhost:8080/",
          "height": 38
        },
        "id": "Ul0vIPFO6FQJ",
        "outputId": "3d52f09e-55f0-4b35-98e0-b22e4382cbb1"
      },
      "execution_count": 11,
      "outputs": [
        {
          "output_type": "execute_result",
          "data": {
            "text/plain": [
              "(6 - 2*z)*(x + 2*y)"
            ],
            "text/latex": "$\\displaystyle \\left(6 - 2 z\\right) \\left(x + 2 y\\right)$"
          },
          "metadata": {},
          "execution_count": 11
        }
      ]
    },
    {
      "cell_type": "code",
      "source": [
        "expr = (x + 2 *y) * (6 - 2*z)\n",
        "expancao = sy.expand(expr)\n",
        "expancao"
      ],
      "metadata": {
        "colab": {
          "base_uri": "https://localhost:8080/",
          "height": 38
        },
        "id": "74ANkVMj6dYa",
        "outputId": "a1015bbf-8465-423d-ab15-401b18e5f7fe"
      },
      "execution_count": 12,
      "outputs": [
        {
          "output_type": "execute_result",
          "data": {
            "text/plain": [
              "-2*x*z + 6*x - 4*y*z + 12*y"
            ],
            "text/latex": "$\\displaystyle - 2 x z + 6 x - 4 y z + 12 y$"
          },
          "metadata": {},
          "execution_count": 12
        }
      ]
    },
    {
      "cell_type": "code",
      "source": [
        "# Produto da Soma pela Diferenca\n",
        "expr2 = (x+y) * (x-y)\n",
        "expancao2 = sy.expand(expr2)\n",
        "expancao2"
      ],
      "metadata": {
        "colab": {
          "base_uri": "https://localhost:8080/",
          "height": 38
        },
        "id": "Lqp-TCpo7ETE",
        "outputId": "6a695655-b5ea-4b3f-ee9a-b7431778dfd9"
      },
      "execution_count": 13,
      "outputs": [
        {
          "output_type": "execute_result",
          "data": {
            "text/plain": [
              "x**2 - y**2"
            ],
            "text/latex": "$\\displaystyle x^{2} - y^{2}$"
          },
          "metadata": {},
          "execution_count": 13
        }
      ]
    },
    {
      "cell_type": "code",
      "source": [
        "# Quadrado da soma\n",
        "expr3 = (x+y)**2\n",
        "expancao3 = sy.expand(expr3)\n",
        "expancao3"
      ],
      "metadata": {
        "colab": {
          "base_uri": "https://localhost:8080/",
          "height": 38
        },
        "id": "0UiDaXGr7WF8",
        "outputId": "ee832d22-01e6-4ce0-a02b-6a54be1c4dbc"
      },
      "execution_count": 14,
      "outputs": [
        {
          "output_type": "execute_result",
          "data": {
            "text/plain": [
              "x**2 + 2*x*y + y**2"
            ],
            "text/latex": "$\\displaystyle x^{2} + 2 x y + y^{2}$"
          },
          "metadata": {},
          "execution_count": 14
        }
      ]
    },
    {
      "cell_type": "code",
      "source": [
        "# Cubo da Soma\n",
        "expr4 = (x+y)**3\n",
        "expancao4 = sy.expand(expr4)\n",
        "expancao4"
      ],
      "metadata": {
        "colab": {
          "base_uri": "https://localhost:8080/",
          "height": 38
        },
        "id": "difev5th71de",
        "outputId": "05ef337f-d097-43b5-fb14-a7124de2851a"
      },
      "execution_count": 15,
      "outputs": [
        {
          "output_type": "execute_result",
          "data": {
            "text/plain": [
              "x**3 + 3*x**2*y + 3*x*y**2 + y**3"
            ],
            "text/latex": "$\\displaystyle x^{3} + 3 x^{2} y + 3 x y^{2} + y^{3}$"
          },
          "metadata": {},
          "execution_count": 15
        }
      ]
    },
    {
      "cell_type": "code",
      "source": [
        "# Cubo da Diferença\n",
        "expr5 = (x-y)**3\n",
        "expancao5 = sy.expand(expr5)\n",
        "expancao5"
      ],
      "metadata": {
        "colab": {
          "base_uri": "https://localhost:8080/",
          "height": 38
        },
        "id": "borNpYRq8DKO",
        "outputId": "4fd7b0af-fcd0-4268-a5b4-328fc7b54a6f"
      },
      "execution_count": 17,
      "outputs": [
        {
          "output_type": "execute_result",
          "data": {
            "text/plain": [
              "x**3 - 3*x**2*y + 3*x*y**2 - y**3"
            ],
            "text/latex": "$\\displaystyle x^{3} - 3 x^{2} y + 3 x y^{2} - y^{3}$"
          },
          "metadata": {},
          "execution_count": 17
        }
      ]
    },
    {
      "cell_type": "code",
      "source": [
        "\n",
        "soma = (x**3 + 2*x**2 + 3*x) + (4*x**3 -x**2 + 2*x)\n",
        "soma"
      ],
      "metadata": {
        "colab": {
          "base_uri": "https://localhost:8080/",
          "height": 38
        },
        "id": "W7VZnUAa4l26",
        "outputId": "73ac6e69-a15a-4e34-fc20-16989583685f"
      },
      "execution_count": 16,
      "outputs": [
        {
          "output_type": "execute_result",
          "data": {
            "text/plain": [
              "5*x**3 + x**2 + 5*x"
            ],
            "text/latex": "$\\displaystyle 5 x^{3} + x^{2} + 5 x$"
          },
          "metadata": {},
          "execution_count": 16
        }
      ]
    },
    {
      "cell_type": "markdown",
      "source": [
        "## Fatoração"
      ],
      "metadata": {
        "id": "zJvpj-Le8I8m"
      }
    },
    {
      "cell_type": "code",
      "source": [
        "expr5 = x**2 - 4\n",
        "fatoracao = sy.factor(expr5)\n",
        "fatoracao"
      ],
      "metadata": {
        "colab": {
          "base_uri": "https://localhost:8080/",
          "height": 38
        },
        "id": "y9N_5vR08Sre",
        "outputId": "07253fc7-e777-4e26-8e2a-36cecdac0aa4"
      },
      "execution_count": 19,
      "outputs": [
        {
          "output_type": "execute_result",
          "data": {
            "text/plain": [
              "(x - 2)*(x + 2)"
            ],
            "text/latex": "$\\displaystyle \\left(x - 2\\right) \\left(x + 2\\right)$"
          },
          "metadata": {},
          "execution_count": 19
        }
      ]
    },
    {
      "cell_type": "code",
      "source": [
        "expr6 = 4*x**2 + 4*x + 1\n",
        "fatoracao2 = sy.factor(expr6)\n",
        "fatoracao2"
      ],
      "metadata": {
        "colab": {
          "base_uri": "https://localhost:8080/",
          "height": 39
        },
        "id": "tXjP0O6K8qDg",
        "outputId": "b8990bfc-d595-4a5f-b094-95bae3315661"
      },
      "execution_count": 20,
      "outputs": [
        {
          "output_type": "execute_result",
          "data": {
            "text/plain": [
              "(2*x + 1)**2"
            ],
            "text/latex": "$\\displaystyle \\left(2 x + 1\\right)^{2}$"
          },
          "metadata": {},
          "execution_count": 20
        }
      ]
    },
    {
      "cell_type": "code",
      "source": [
        "expr7 = 8*x**3 + 4*x**2 + 1\n",
        "fatoracao3 = sy.factor(expr7)\n",
        "fatoracao3"
      ],
      "metadata": {
        "id": "JaZjzbUS9K8H"
      },
      "execution_count": null,
      "outputs": []
    },
    {
      "cell_type": "markdown",
      "source": [
        "## Divisao de Polinomios"
      ],
      "metadata": {
        "id": "t-hxAR9d9Tx-"
      }
    },
    {
      "cell_type": "code",
      "source": [
        "sy.div(x**3 + x**2 - 2*x, x**2 + 2*x)\n"
      ],
      "metadata": {
        "colab": {
          "base_uri": "https://localhost:8080/"
        },
        "id": "DiPrikpH9ZL-",
        "outputId": "d507440a-ed1e-4d98-8b91-3e71a1f10fd8"
      },
      "execution_count": 22,
      "outputs": [
        {
          "output_type": "execute_result",
          "data": {
            "text/plain": [
              "(x - 1, 0)"
            ]
          },
          "metadata": {},
          "execution_count": 22
        }
      ]
    },
    {
      "cell_type": "code",
      "source": [
        "expr8 = x**3 + x**2 - 2*x\n",
        "expr9 = x**2 + 2*x\n",
        "divisao = sy.div(expr8, expr9)\n",
        "print(\"o Quociente é: \", expr8)\n",
        "print(\"o Resto é: \", expr9)\n",
        "print(divisao)"
      ],
      "metadata": {
        "colab": {
          "base_uri": "https://localhost:8080/"
        },
        "id": "mNWT4ThY92h6",
        "outputId": "11ae7b55-a29e-472f-c1a4-1117f4e90812"
      },
      "execution_count": 24,
      "outputs": [
        {
          "output_type": "stream",
          "name": "stdout",
          "text": [
            "o Quociente é:  x**3 + x**2 - 2*x\n",
            "o Resto é:  x**2 + 2*x\n",
            "(x - 1, 0)\n"
          ]
        }
      ]
    }
  ]
}